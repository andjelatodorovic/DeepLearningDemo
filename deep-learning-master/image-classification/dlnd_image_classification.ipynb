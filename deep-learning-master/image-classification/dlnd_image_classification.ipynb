{
 "cells": [
  {
   "cell_type": "markdown",
   "metadata": {
    "collapsed": true,
    "deletable": true,
    "editable": true
   },
   "source": [
    "# Image Classification\n",
    "In this project, you'll classify images from the [CIFAR-10 dataset](https://www.cs.toronto.edu/~kriz/cifar.html).  The dataset consists of airplanes, dogs, cats, and other objects. You'll preprocess the images, then train a convolutional neural network on all the samples. The images need to be normalized and the labels need to be one-hot encoded.  You'll get to apply what you learned and build a convolutional, max pooling, dropout, and fully connected layers.  At the end, you'll get to see your neural network's predictions on the sample images.\n",
    "## Get the Data\n",
    "Run the following cell to download the [CIFAR-10 dataset for python](https://www.cs.toronto.edu/~kriz/cifar-10-python.tar.gz)."
   ]
  },
  {
   "cell_type": "code",
   "execution_count": 1,
   "metadata": {
    "collapsed": false,
    "deletable": true,
    "editable": true
   },
   "outputs": [
    {
     "name": "stdout",
     "output_type": "stream",
     "text": [
      "All files found!\n"
     ]
    }
   ],
   "source": [
    "\"\"\"\n",
    "DON'T MODIFY ANYTHING IN THIS CELL THAT IS BELOW THIS LINE\n",
    "\"\"\"\n",
    "from urllib.request import urlretrieve\n",
    "from os.path import isfile, isdir\n",
    "from tqdm import tqdm\n",
    "import problem_unittests as tests\n",
    "import tarfile\n",
    "\n",
    "cifar10_dataset_folder_path = 'cifar-10-batches-py'\n",
    "\n",
    "class DLProgress(tqdm):\n",
    "    last_block = 0\n",
    "\n",
    "    def hook(self, block_num=1, block_size=1, total_size=None):\n",
    "        self.total = total_size\n",
    "        self.update((block_num - self.last_block) * block_size)\n",
    "        self.last_block = block_num\n",
    "\n",
    "if not isfile('cifar-10-python.tar.gz'):\n",
    "    with DLProgress(unit='B', unit_scale=True, miniters=1, desc='CIFAR-10 Dataset') as pbar:\n",
    "        urlretrieve(\n",
    "            'https://www.cs.toronto.edu/~kriz/cifar-10-python.tar.gz',\n",
    "            'cifar-10-python.tar.gz',\n",
    "            pbar.hook)\n",
    "\n",
    "if not isdir(cifar10_dataset_folder_path):\n",
    "    with tarfile.open('cifar-10-python.tar.gz') as tar:\n",
    "        tar.extractall()\n",
    "        tar.close()\n",
    "\n",
    "\n",
    "tests.test_folder_path(cifar10_dataset_folder_path)"
   ]
  },
  {
   "cell_type": "markdown",
   "metadata": {
    "deletable": true,
    "editable": true
   },
   "source": [
    "## Explore the Data\n",
    "The dataset is broken into batches to prevent your machine from running out of memory.  The CIFAR-10 dataset consists of 5 batches, named `data_batch_1`, `data_batch_2`, etc.. Each batch contains the labels and images that are one of the following:\n",
    "* airplane\n",
    "* automobile\n",
    "* bird\n",
    "* cat\n",
    "* deer\n",
    "* dog\n",
    "* frog\n",
    "* horse\n",
    "* ship\n",
    "* truck\n",
    "\n",
    "Understanding a dataset is part of making predictions on the data.  Play around with the code cell below by changing the `batch_id` and `sample_id`. The `batch_id` is the id for a batch (1-5). The `sample_id` is the id for a image and label pair in the batch.\n",
    "\n",
    "Ask yourself \"What are all possible labels?\", \"What is the range of values for the image data?\", \"Are the labels in order or random?\".  Answers to questions like these will help you preprocess the data and end up with better predictions."
   ]
  },
  {
   "cell_type": "code",
   "execution_count": 2,
   "metadata": {
    "collapsed": false,
    "deletable": true,
    "editable": true
   },
   "outputs": [
    {
     "name": "stdout",
     "output_type": "stream",
     "text": [
      "\n",
      "Stats of batch 1:\n",
      "Samples: 10000\n",
      "Label Counts: {0: 1005, 1: 974, 2: 1032, 3: 1016, 4: 999, 5: 937, 6: 1030, 7: 1001, 8: 1025, 9: 981}\n",
      "First 20 Labels: [6, 9, 9, 4, 1, 1, 2, 7, 8, 3, 4, 7, 7, 2, 9, 9, 9, 3, 2, 6]\n",
      "Min/Max values for labels: 0/9\n",
      "\n",
      "Example of Image 5:\n",
      "Image - Min Value: 0 Max Value: 252\n",
      "Image - Shape: (32, 32, 3)\n",
      "Label - Label Id: 1 Name: automobile\n"
     ]
    },
    {
     "data": {
      "image/png": "[encoded data removed]",
      "text/plain": [
       "<matplotlib.figure.Figure at 0x7fdae578d198>"
      ]
     },
     "metadata": {
      "image/png": {
       "height": 250,
       "width": 253
      }
     },
     "output_type": "display_data"
    },
    {
     "name": "stdout",
     "output_type": "stream",
     "text": [
      "\n",
      "Stats of batch 1:\n",
      "Samples: 10000\n",
      "Label Counts: {0: 1005, 1: 974, 2: 1032, 3: 1016, 4: 999, 5: 937, 6: 1030, 7: 1001, 8: 1025, 9: 981}\n",
      "First 20 Labels: [6, 9, 9, 4, 1, 1, 2, 7, 8, 3, 4, 7, 7, 2, 9, 9, 9, 3, 2, 6]\n",
      "Min/Max values for labels: 0/9\n",
      "\n",
      "Example of Image 4:\n",
      "Image - Min Value: 0 Max Value: 254\n",
      "Image - Shape: (32, 32, 3)\n",
      "Label - Label Id: 1 Name: automobile\n"
     ]
    },
    {
     "data": {
      "image/png": "[encoded data removed]",
      "text/plain": [
       "<matplotlib.figure.Figure at 0x7fda9ffccb38>"
      ]
     },
     "metadata": {
      "image/png": {
       "height": 250,
       "width": 253
      }
     },
     "output_type": "display_data"
    }
   ],
   "source": [
    "%matplotlib inline\n",
    "%config InlineBackend.figure_format = 'retina'\n",
    "\n",
    "import helper\n",
    "import numpy as np\n",
    "\n",
    "# Explore the dataset\n",
    "batch_id = 1\n",
    "sample_id = 5\n",
    "helper.display_stats(cifar10_dataset_folder_path, batch_id, sample_id)\n",
    "helper.display_stats(cifar10_dataset_folder_path, batch_id, 4)"
   ]
  },
  {
   "cell_type": "markdown",
   "metadata": {
    "deletable": true,
    "editable": true
   },
   "source": [
    "## <span style=\"color:green\">Notes:</span>\n",
    ">  The possible labels are contained between 0 and 9 and 1 seems to be associated to an automobile. So a label is probably associated to a certain type of image. By checking on the documentation of the CIFAR-10 dataset we can see that this is effectively the case where the numbers from 0 to 9 describes objects these objects (in order):\n",
    "    - Airplane   [0]\n",
    "    - Automobile [1]\n",
    "    - Bird       [2]\n",
    "    - Cat        [3]\n",
    "    - Deer       [4]\n",
    "    - Dog        [5]\n",
    "    - Frog       [6]\n",
    "    - Horse      [7]\n",
    "    - Ship       [8]\n",
    "    - Truck      [9]"
   ]
  },
  {
   "cell_type": "markdown",
   "metadata": {
    "deletable": true,
    "editable": true
   },
   "source": [
    "## Implement Preprocess Functions\n",
    "### Normalize\n",
    "In the cell below, implement the `normalize` function to take in image data, `x`, and return it as a normalized Numpy array. The values should be in the range of 0 to 1, inclusive.  The return object should be the same shape as `x`."
   ]
  },
  {
   "cell_type": "markdown",
   "metadata": {
    "deletable": true,
    "editable": true
   },
   "source": [
    "## <span style=\"color:green\">Notes:</span>\n",
    "> The Min-Max Scaling normalizer is defined by:\n",
    "\n",
    "> $X'=a+{\\frac {\\left(X-X_{\\min }\\right)\\left(b-a\\right)}{X_{\\max }-X_{\\min }}}$\n",
    "\n",
    "> With `a=0` and `b=1`"
   ]
  },
  {
   "cell_type": "code",
   "execution_count": 3,
   "metadata": {
    "collapsed": false,
    "deletable": true,
    "editable": true
   },
   "outputs": [
    {
     "name": "stdout",
     "output_type": "stream",
     "text": [
      "Tests Passed\n"
     ]
    }
   ],
   "source": [
    "def normalize(x):\n",
    "    \"\"\"\n",
    "    Normalize a list of sample image data in the range of 0 to 1\n",
    "    : x: List of image data.  The image shape is (32, 32, 3)\n",
    "    : return: Numpy array of normalize data\n",
    "    \"\"\"\n",
    "    a = 0\n",
    "    b = 1\n",
    "    x_max = np.amax(x)\n",
    "    x_min = np.amin(x)\n",
    "    return ((x - x_min) * (b - a)) / (x_max - x_min)\n",
    "\n",
    "\n",
    "\"\"\"\n",
    "DON'T MODIFY ANYTHING IN THIS CELL THAT IS BELOW THIS LINE\n",
    "\"\"\"\n",
    "tests.test_normalize(normalize)"
   ]
  },
  {
   "cell_type": "markdown",
   "metadata": {
    "deletable": true,
    "editable": true
   },
   "source": [
    "### One-hot encode\n",
    "Just like the previous code cell, you'll be implementing a function for preprocessing.  This time, you'll implement the `one_hot_encode` function. The input, `x`, are a list of labels.  Implement the function to return the list of labels as One-Hot encoded Numpy array.  The possible values for labels are 0 to 9. The one-hot encoding function should return the same encoding for each value between each call to `one_hot_encode`.  Make sure to save the map of encodings outside the function.\n",
    "\n",
    "Hint: Don't reinvent the wheel."
   ]
  },
  {
   "cell_type": "code",
   "execution_count": 4,
   "metadata": {
    "collapsed": false,
    "deletable": true,
    "editable": true
   },
   "outputs": [
    {
     "name": "stdout",
     "output_type": "stream",
     "text": [
      "Tests Passed\n"
     ]
    }
   ],
   "source": [
    "def one_hot_encode(x):\n",
    "    \"\"\"\n",
    "    One hot encode a list of sample labels. Return a one-hot encoded vector for each label.\n",
    "    : x: List of sample Labels\n",
    "    : return: Numpy array of one-hot encoded labels\n",
    "    \"\"\"\n",
    "    l = np.zeros((len(x), 10))\n",
    "    for i in range(len(x)):\n",
    "            l[i][x[i]] = 1\n",
    "    return l\n",
    "\n",
    "\n",
    "\"\"\"\n",
    "DON'T MODIFY ANYTHING IN THIS CELL THAT IS BELOW THIS LINE\n",
    "\"\"\"\n",
    "tests.test_one_hot_encode(one_hot_encode)"
   ]
  },
  {
   "cell_type": "markdown",
   "metadata": {
    "deletable": true,
    "editable": true
   },
   "source": [
    "### Randomize Data\n",
    "As you saw from exploring the data above, the order of the samples are randomized.  It doesn't hurt to randomize it again, but you don't need to for this dataset."
   ]
  },
  {
   "cell_type": "markdown",
   "metadata": {
    "deletable": true,
    "editable": true
   },
   "source": [
    "## Preprocess all the data and save it\n",
    "Running the code cell below will preprocess all the CIFAR-10 data and save it to file. The code below also uses 10% of the training data for validation."
   ]
  },
  {
   "cell_type": "code",
   "execution_count": 5,
   "metadata": {
    "collapsed": false,
    "deletable": true,
    "editable": true
   },
   "outputs": [],
   "source": [
    "\"\"\"\n",
    "DON'T MODIFY ANYTHING IN THIS CELL\n",
    "\"\"\"\n",
    "# Preprocess Training, Validation, and Testing Data\n",
    "helper.preprocess_and_save_data(cifar10_dataset_folder_path, normalize, one_hot_encode)"
   ]
  },
  {
   "cell_type": "markdown",
   "metadata": {
    "deletable": true,
    "editable": true
   },
   "source": [
    "# Check Point\n",
    "This is your first checkpoint.  If you ever decide to come back to this notebook or have to restart the notebook, you can start from here.  The preprocessed data has been saved to disk."
   ]
  },
  {
   "cell_type": "code",
   "execution_count": 6,
   "metadata": {
    "collapsed": true,
    "deletable": true,
    "editable": true
   },
   "outputs": [],
   "source": [
    "\"\"\"\n",
    "DON'T MODIFY ANYTHING IN THIS CELL\n",
    "\"\"\"\n",
    "import pickle\n",
    "import problem_unittests as tests\n",
    "import helper\n",
    "\n",
    "# Load the Preprocessed Validation data\n",
    "valid_features, valid_labels = pickle.load(open('preprocess_validation.p', mode='rb'))"
   ]
  },
  {
   "cell_type": "markdown",
   "metadata": {
    "deletable": true,
    "editable": true
   },
   "source": [
    "## Build the network\n",
    "For the neural network, you'll build each layer into a function.  Most of the code you've seen has been outside of functions. To test your code more thoroughly, we require that you put each layer in a function.  This allows us to give you better feedback and test for simple mistakes using our unittests before you submit your project.\n",
    "\n",
    ">**Note:** If you're finding it hard to dedicate enough time for this course each week, we've provided a small shortcut to this part of the project. In the next couple of problems, you'll have the option to use classes from the [TensorFlow Layers](https://www.tensorflow.org/api_docs/python/tf/layers) or [TensorFlow Layers (contrib)](https://www.tensorflow.org/api_guides/python/contrib.layers) packages to build each layer, except the layers you build in the \"Convolutional and Max Pooling Layer\" section.  TF Layers is similar to Keras's and TFLearn's abstraction to layers, so it's easy to pickup.\n",
    "\n",
    ">However, if you would like to get the most out of this course, try to solve all the problems _without_ using anything from the TF Layers packages. You **can** still use classes from other packages that happen to have the same name as ones you find in TF Layers! For example, instead of using the TF Layers version of the `conv2d` class, [tf.layers.conv2d](https://www.tensorflow.org/api_docs/python/tf/layers/conv2d), you would want to use the TF Neural Network version of `conv2d`, [tf.nn.conv2d](https://www.tensorflow.org/api_docs/python/tf/nn/conv2d). \n",
    "\n",
    "Let's begin!\n",
    "\n",
    "### Input\n",
    "The neural network needs to read the image data, one-hot encoded labels, and dropout keep probability. Implement the following functions\n",
    "* Implement `neural_net_image_input`\n",
    " * Return a [TF Placeholder](https://www.tensorflow.org/api_docs/python/tf/placeholder)\n",
    " * Set the shape using `image_shape` with batch size set to `None`.\n",
    " * Name the TensorFlow placeholder \"x\" using the TensorFlow `name` parameter in the [TF Placeholder](https://www.tensorflow.org/api_docs/python/tf/placeholder).\n",
    "* Implement `neural_net_label_input`\n",
    " * Return a [TF Placeholder](https://www.tensorflow.org/api_docs/python/tf/placeholder)\n",
    " * Set the shape using `n_classes` with batch size set to `None`.\n",
    " * Name the TensorFlow placeholder \"y\" using the TensorFlow `name` parameter in the [TF Placeholder](https://www.tensorflow.org/api_docs/python/tf/placeholder).\n",
    "* Implement `neural_net_keep_prob_input`\n",
    " * Return a [TF Placeholder](https://www.tensorflow.org/api_docs/python/tf/placeholder) for dropout keep probability.\n",
    " * Name the TensorFlow placeholder \"keep_prob\" using the TensorFlow `name` parameter in the [TF Placeholder](https://www.tensorflow.org/api_docs/python/tf/placeholder).\n",
    "\n",
    "These names will be used at the end of the project to load your saved model.\n",
    "\n",
    "Note: `None` for shapes in TensorFlow allow for a dynamic size."
   ]
  },
  {
   "cell_type": "code",
   "execution_count": 7,
   "metadata": {
    "collapsed": false,
    "deletable": true,
    "editable": true
   },
   "outputs": [
    {
     "name": "stdout",
     "output_type": "stream",
     "text": [
      "Image Input Tests Passed.\n",
      "Label Input Tests Passed.\n",
      "Keep Prob Tests Passed.\n"
     ]
    }
   ],
   "source": [
    "import tensorflow as tf\n",
    "\n",
    "def neural_net_image_input(image_shape):\n",
    "    \"\"\"\n",
    "    Return a Tensor for a bach of image input\n",
    "    : image_shape: Shape of the images\n",
    "    : return: Tensor for image input.\n",
    "    \"\"\"\n",
    "    return tf.placeholder(tf.float32, shape=[None, *image_shape], name='x')\n",
    "\n",
    "\n",
    "def neural_net_label_input(n_classes):\n",
    "    \"\"\"\n",
    "    Return a Tensor for a batch of label input\n",
    "    : n_classes: Number of classes\n",
    "    : return: Tensor for label input.\n",
    "    \"\"\"\n",
    "    return tf.placeholder(tf.float32, shape=[None, n_classes], name='y')\n",
    "\n",
    "\n",
    "def neural_net_keep_prob_input():\n",
    "    \"\"\"\n",
    "    Return a Tensor for keep probability\n",
    "    : return: Tensor for keep probability.\n",
    "    \"\"\"\n",
    "    return tf.placeholder(tf.float32, name='keep_prob')\n",
    "\n",
    "\n",
    "\"\"\"\n",
    "DON'T MODIFY ANYTHING IN THIS CELL THAT IS BELOW THIS LINE\n",
    "\"\"\"\n",
    "tf.reset_default_graph()\n",
    "tests.test_nn_image_inputs(neural_net_image_input)\n",
    "tests.test_nn_label_inputs(neural_net_label_input)\n",
    "tests.test_nn_keep_prob_inputs(neural_net_keep_prob_input)"
   ]
  },
  {
   "cell_type": "markdown",
   "metadata": {
    "deletable": true,
    "editable": true
   },
   "source": [
    "### Convolution and Max Pooling Layer\n",
    "Convolution layers have a lot of success with images. For this code cell, you should implement the function `conv2d_maxpool` to apply convolution then max pooling:\n",
    "* Create the weight and bias using `conv_ksize`, `conv_num_outputs` and the shape of `x_tensor`.\n",
    "* Apply a convolution to `x_tensor` using weight and `conv_strides`.\n",
    " * We recommend you use same padding, but you're welcome to use any padding.\n",
    "* Add bias\n",
    "* Add a nonlinear activation to the convolution.\n",
    "* Apply Max Pooling using `pool_ksize` and `pool_strides`.\n",
    " * We recommend you use same padding, but you're welcome to use any padding.\n",
    "\n",
    "**Note:** You **can't** use [TensorFlow Layers](https://www.tensorflow.org/api_docs/python/tf/layers) or [TensorFlow Layers (contrib)](https://www.tensorflow.org/api_guides/python/contrib.layers) for **this** layer, but you can still use TensorFlow's [Neural Network](https://www.tensorflow.org/api_docs/python/tf/nn) package. You may still use the shortcut option for all the **other** layers."
   ]
  },
  {
   "cell_type": "code",
   "execution_count": 8,
   "metadata": {
    "collapsed": false,
    "deletable": true,
    "editable": true
   },
   "outputs": [
    {
     "name": "stdout",
     "output_type": "stream",
     "text": [
      "Tests Passed\n"
     ]
    }
   ],
   "source": [
    "def conv2d_maxpool(x_tensor, conv_num_outputs, conv_ksize, conv_strides, pool_ksize, pool_strides):\n",
    "    \"\"\"\n",
    "    Apply convolution then max pooling to x_tensor\n",
    "    :param x_tensor: TensorFlow Tensor\n",
    "    :param conv_num_outputs: Number of outputs for the convolutional layer\n",
    "    :param conv_ksize: kernel (patches) size 2-D Tuple for the convolutional layer\n",
    "    :param conv_strides: Stride 2-D Tuple for convolution\n",
    "    :param pool_ksize: kernel size 2-D Tuple for pool\n",
    "    :param pool_strides: Stride 2-D Tuple for pool\n",
    "    : return: A tensor that represents convolution and max pooling of x_tensor\n",
    "    \"\"\"\n",
    "    input_channel_depth = int(x_tensor.get_shape()[3])\n",
    "    # The shape of the filter weight is (height, width, input_depth, output_depth)\n",
    "    filter_weights = tf.Variable(tf.truncated_normal([*conv_ksize, input_channel_depth, conv_num_outputs], dtype=tf.float32))\n",
    "    # The shape of the biases is equal the the number of outputs of the conv layer\n",
    "    filter_biases = tf.Variable(tf.constant(0, shape=[conv_num_outputs], dtype=tf.float32))\n",
    "    \n",
    "    layer = tf.nn.conv2d(input=x_tensor, filter=filter_weights, strides=[1, *conv_strides, 1], padding='SAME')\n",
    "    layer += filter_biases\n",
    "    layer = tf.nn.max_pool(layer, [1, *pool_ksize, 1], strides=[1, *pool_strides, 1], padding='SAME')\n",
    "    return layer\n",
    "\n",
    "\n",
    "\"\"\"\n",
    "DON'T MODIFY ANYTHING IN THIS CELL THAT IS BELOW THIS LINE\n",
    "\"\"\"\n",
    "tests.test_con_pool(conv2d_maxpool)"
   ]
  },
  {
   "cell_type": "markdown",
   "metadata": {
    "deletable": true,
    "editable": true
   },
   "source": [
    "## <span style=\"color:red\">Questions:</span>\n",
    "> - In `tf.nn.conv2d` and `tf.nn.max_pool` I've set the first and last `strides` to 1 as the lessons told us that they must always be 1, same applies for the `pool_ksize`. But why is that? Why would we always want the first and last strides and `pool_ksize` to be 1?\n",
    "> - As for the first question, for `filter_weights` I defined the 4D tensor like this `[height, width, input_depth, output_depth]`, for the `strides` it would be something like: `[image-number, x-movement, y-movement, input-channel]` but for `pool_ksize` what does each values represent exactly? `[?, ?, ?, ?]` ?\n",
    "> - What is the point of always adding biases to our layer if they are 0? When we train our cnn only the weights will be updated right? So what is the purpose of having those biases?"
   ]
  },
  {
   "cell_type": "markdown",
   "metadata": {
    "deletable": true,
    "editable": true
   },
   "source": [
    "### Flatten Layer\n",
    "Implement the `flatten` function to change the dimension of `x_tensor` from a 4-D tensor to a 2-D tensor.  The output should be the shape (*Batch Size*, *Flattened Image Size*). Shortcut option: you can use classes from the [TensorFlow Layers](https://www.tensorflow.org/api_docs/python/tf/layers) or [TensorFlow Layers (contrib)](https://www.tensorflow.org/api_guides/python/contrib.layers) packages for this layer. For more of a challenge, only use other TensorFlow packages."
   ]
  },
  {
   "cell_type": "code",
   "execution_count": 9,
   "metadata": {
    "collapsed": false,
    "deletable": true,
    "editable": true
   },
   "outputs": [
    {
     "name": "stdout",
     "output_type": "stream",
     "text": [
      "Tests Passed\n"
     ]
    }
   ],
   "source": [
    "def flatten(x_tensor):\n",
    "    \"\"\"\n",
    "    Flatten x_tensor to (Batch Size, Flattened Image Size)\n",
    "    : x_tensor: A tensor of size (Batch Size, ...), where ... are the image dimensions.\n",
    "    : return: A tensor of size (Batch Size, Flattened Image Size).\n",
    "    \"\"\"\n",
    "    tensor_shape = x_tensor.get_shape()\n",
    "    total_features = tensor_shape[1:4].num_elements() # num_elements() = img_height * img_width * num_channels\n",
    "    return tf.reshape(x_tensor, [-1, total_features])\n",
    "\n",
    "\n",
    "\"\"\"\n",
    "DON'T MODIFY ANYTHING IN THIS CELL THAT IS BELOW THIS LINE\n",
    "\"\"\"\n",
    "tests.test_flatten(flatten)"
   ]
  },
  {
   "cell_type": "markdown",
   "metadata": {
    "deletable": true,
    "editable": true
   },
   "source": [
    "### Fully-Connected Layer\n",
    "Implement the `fully_conn` function to apply a fully connected layer to `x_tensor` with the shape (*Batch Size*, *num_outputs*). Shortcut option: you can use classes from the [TensorFlow Layers](https://www.tensorflow.org/api_docs/python/tf/layers) or [TensorFlow Layers (contrib)](https://www.tensorflow.org/api_guides/python/contrib.layers) packages for this layer. For more of a challenge, only use other TensorFlow packages."
   ]
  },
  {
   "cell_type": "code",
   "execution_count": 10,
   "metadata": {
    "collapsed": false,
    "deletable": true,
    "editable": true
   },
   "outputs": [
    {
     "name": "stdout",
     "output_type": "stream",
     "text": [
      "Tests Passed\n"
     ]
    }
   ],
   "source": [
    "def fully_conn(x_tensor, num_outputs):\n",
    "    \"\"\"\n",
    "    Apply a fully connected layer to x_tensor using weight and bias\n",
    "    : x_tensor: A 2-D tensor where the first dimension is batch size.\n",
    "    : num_outputs: The number of output that the new tensor should be.\n",
    "    : return: A 2-D tensor where the second dimension is num_outputs.\n",
    "    \"\"\"\n",
    "    num_inputs = int(x_tensor.get_shape()[1])\n",
    "    # stdev=0.1 seems to initialize weights more accurately\n",
    "    weights = tf.Variable(tf.truncated_normal([num_inputs, num_outputs], dtype=tf.float32, stddev=0.05))\n",
    "    biases = tf.Variable(tf.constant(0, shape=[num_outputs], dtype=tf.float32))\n",
    "    return tf.add(tf.matmul(x_tensor, weights), biases)\n",
    "\n",
    "\n",
    "\"\"\"\n",
    "DON'T MODIFY ANYTHING IN THIS CELL THAT IS BELOW THIS LINE\n",
    "\"\"\"\n",
    "tests.test_fully_conn(fully_conn)"
   ]
  },
  {
   "cell_type": "markdown",
   "metadata": {},
   "source": [
    "## <span style=\"color:red\">Questions:</span>\n",
    "> I added `stddev=0.05` to the weights as I saw people doing this [on some of their notebooks tutorials](https://github.com/Hvass-Labs/TensorFlow-Tutorials/blob/master/02_Convolutional_Neural_Network.ipynb). Then I ran the optimization pass and noticed a **huge** improvement in accuracy but I still cannot figure out what is actually happening, why using `stddev=0.05` for weights initialisation gives this massive performance boost?\n",
    "\n",
    "> **Answer**: The response can be found [here](https://discussions.udacity.com/t/tf-truncated-normal-informations/221986), from my own question... "
   ]
  },
  {
   "cell_type": "markdown",
   "metadata": {
    "deletable": true,
    "editable": true
   },
   "source": [
    "### Output Layer\n",
    "Implement the `output` function to apply a fully connected layer to `x_tensor` with the shape (*Batch Size*, *num_outputs*). Shortcut option: you can use classes from the [TensorFlow Layers](https://www.tensorflow.org/api_docs/python/tf/layers) or [TensorFlow Layers (contrib)](https://www.tensorflow.org/api_guides/python/contrib.layers) packages for this layer. For more of a challenge, only use other TensorFlow packages.\n",
    "\n",
    "**Note:** Activation, softmax, or cross entropy should **not** be applied to this."
   ]
  },
  {
   "cell_type": "code",
   "execution_count": 11,
   "metadata": {
    "collapsed": false,
    "deletable": true,
    "editable": true
   },
   "outputs": [
    {
     "name": "stdout",
     "output_type": "stream",
     "text": [
      "Tests Passed\n"
     ]
    }
   ],
   "source": [
    "def output(x_tensor, num_outputs):\n",
    "    \"\"\"\n",
    "    Apply a output layer to x_tensor using weight and bias\n",
    "    : x_tensor: A 2-D tensor where the first dimension is batch size.\n",
    "    : num_outputs: The number of output that the new tensor should be.\n",
    "    : return: A 2-D tensor where the second dimension is num_outputs.\n",
    "    \"\"\"\n",
    "    return fully_conn(x_tensor, num_outputs)\n",
    "\n",
    "\n",
    "\"\"\"\n",
    "DON'T MODIFY ANYTHING IN THIS CELL THAT IS BELOW THIS LINE\n",
    "\"\"\"\n",
    "tests.test_output(output)"
   ]
  },
  {
   "cell_type": "markdown",
   "metadata": {
    "deletable": true,
    "editable": true
   },
   "source": [
    "### Create Convolutional Model\n",
    "Implement the function `conv_net` to create a convolutional neural network model. The function takes in a batch of images, `x`, and outputs logits.  Use the layers you created above to create this model:\n",
    "\n",
    "* Apply 1, 2, or 3 Convolution and Max Pool layers\n",
    "* Apply a Flatten Layer\n",
    "* Apply 1, 2, or 3 Fully Connected Layers\n",
    "* Apply an Output Layer\n",
    "* Return the output\n",
    "* Apply [TensorFlow's Dropout](https://www.tensorflow.org/api_docs/python/tf/nn/dropout) to one or more layers in the model using `keep_prob`. "
   ]
  },
  {
   "cell_type": "code",
   "execution_count": 12,
   "metadata": {
    "collapsed": false,
    "deletable": true,
    "editable": true
   },
   "outputs": [
    {
     "name": "stdout",
     "output_type": "stream",
     "text": [
      "Neural Network Built!\n"
     ]
    }
   ],
   "source": [
    "def conv_net(x, keep_prob):\n",
    "    \"\"\"\n",
    "    Create a convolutional neural network model\n",
    "    : x: Placeholder tensor that holds image data.\n",
    "    : keep_prob: Placeholder tensor that hold dropout keep probability.\n",
    "    : return: Tensor that represents logits\n",
    "    \"\"\"\n",
    "    \n",
    "    # Convolutional layer\n",
    "    # Play around with different number of outputs, kernel size and stride\n",
    "    conv_strides = (1, 1)\n",
    "    conv_ksize = (3, 3) # Size of the filter HxW\n",
    "    conv_num_outputs = 10\n",
    "    pool_ksize = (3, 3)\n",
    "    pool_strides = (2, 2)\n",
    "    layer_convolutional = conv2d_maxpool(x, conv_num_outputs, conv_ksize, conv_strides, pool_ksize, pool_strides)\n",
    "    \n",
    "    # Apply some dropout\n",
    "    layer_convolutional = tf.nn.dropout(layer_convolutional, keep_prob)\n",
    "    \n",
    "    # Flatten layer\n",
    "    layer_flatten = flatten(layer_convolutional)\n",
    "    \n",
    "    # Fully connected layer\n",
    "    num_outputs = 10\n",
    "    fully_connected_layer = fully_conn(layer_flatten, num_outputs)\n",
    "    \n",
    "    # Output layer\n",
    "    output_layer = output(fully_connected_layer, 10) # 10 = Number of labels (0 to 9)\n",
    "    \n",
    "    return output_layer\n",
    "\n",
    "\n",
    "\"\"\"\n",
    "DON'T MODIFY ANYTHING IN THIS CELL THAT IS BELOW THIS LINE\n",
    "\"\"\"\n",
    "\n",
    "##############################\n",
    "## Build the Neural Network ##\n",
    "##############################\n",
    "\n",
    "# Remove previous weights, bias, inputs, etc..\n",
    "tf.reset_default_graph()\n",
    "\n",
    "# Inputs\n",
    "x = neural_net_image_input((32, 32, 3))\n",
    "y = neural_net_label_input(10)\n",
    "keep_prob = neural_net_keep_prob_input()\n",
    "\n",
    "# Model\n",
    "logits = conv_net(x, keep_prob)\n",
    "\n",
    "# Name logits Tensor, so that is can be loaded from disk after training\n",
    "logits = tf.identity(logits, name='logits')\n",
    "\n",
    "# Loss and Optimizer\n",
    "cost = tf.reduce_mean(tf.nn.softmax_cross_entropy_with_logits(logits=logits, labels=y))\n",
    "optimizer = tf.train.AdamOptimizer().minimize(cost)\n",
    "\n",
    "# Accuracy\n",
    "correct_pred = tf.equal(tf.argmax(logits, 1), tf.argmax(y, 1))\n",
    "accuracy = tf.reduce_mean(tf.cast(correct_pred, tf.float32), name='accuracy')\n",
    "\n",
    "tests.test_conv_net(conv_net)"
   ]
  },
  {
   "cell_type": "markdown",
   "metadata": {},
   "source": [
    "## <span style=\"color:red\">Questions:</span>\n",
    "> - I've set `conv_ksize`, `conv_num_outputs`, `pool_ksize` and `num_outputs` completely randomly and it worked... Any insight of what should be the best values to use here and why mine seems to be \"enough\"?\n",
    "> - I applied the dropout on the convolutional layer but is it right? I tried to apply the dropout on either the convolutional layer or the fully connected layer but I didn't notice any notable improvement on my validation set accuracy. Plus, setting the `keep_prob` to either `0.1` or `0.9` didn't change my final accuracy by much (for a difference of less than `0.1`), could you tell me why?"
   ]
  },
  {
   "cell_type": "markdown",
   "metadata": {
    "deletable": true,
    "editable": true
   },
   "source": [
    "## Train the Neural Network\n",
    "### Single Optimization\n",
    "Implement the function `train_neural_network` to do a single optimization.  The optimization should use `optimizer` to optimize in `session` with a `feed_dict` of the following:\n",
    "* `x` for image input\n",
    "* `y` for labels\n",
    "* `keep_prob` for keep probability for dropout\n",
    "\n",
    "This function will be called for each batch, so `tf.global_variables_initializer()` has already been called.\n",
    "\n",
    "Note: Nothing needs to be returned. This function is only optimizing the neural network."
   ]
  },
  {
   "cell_type": "code",
   "execution_count": 13,
   "metadata": {
    "collapsed": false,
    "deletable": true,
    "editable": true
   },
   "outputs": [
    {
     "name": "stdout",
     "output_type": "stream",
     "text": [
      "Tests Passed\n"
     ]
    }
   ],
   "source": [
    "def train_neural_network(session, optimizer, keep_probability, feature_batch, label_batch):\n",
    "    \"\"\"\n",
    "    Optimize the session on a batch of images and labels\n",
    "    : session: Current TensorFlow session\n",
    "    : optimizer: TensorFlow optimizer function\n",
    "    : keep_probability: keep probability\n",
    "    : feature_batch: Batch of Numpy image data\n",
    "    : label_batch: Batch of Numpy label data\n",
    "    \"\"\"\n",
    "    feed_dict_train = {x: feature_batch, y: label_batch, keep_prob: keep_probability}\n",
    "    session.run(optimizer, feed_dict=feed_dict_train)\n",
    "\n",
    "\n",
    "\"\"\"\n",
    "DON'T MODIFY ANYTHING IN THIS CELL THAT IS BELOW THIS LINE\n",
    "\"\"\"\n",
    "tests.test_train_nn(train_neural_network)"
   ]
  },
  {
   "cell_type": "markdown",
   "metadata": {
    "deletable": true,
    "editable": true
   },
   "source": [
    "### Show Stats\n",
    "Implement the function `print_stats` to print loss and validation accuracy.  Use the global variables `valid_features` and `valid_labels` to calculate validation accuracy.  Use a keep probability of `1.0` to calculate the loss and validation accuracy."
   ]
  },
  {
   "cell_type": "code",
   "execution_count": 14,
   "metadata": {
    "collapsed": false,
    "deletable": true,
    "editable": true
   },
   "outputs": [],
   "source": [
    "def print_stats(session, feature_batch, label_batch, cost, accuracy):\n",
    "    \"\"\"\n",
    "    Print information about loss and validation accuracy\n",
    "    : session: Current TensorFlow session\n",
    "    : feature_batch: Batch of Numpy image data\n",
    "    : label_batch: Batch of Numpy label data\n",
    "    : cost: TensorFlow cost function\n",
    "    : accuracy: TensorFlow accuracy function\n",
    "    \"\"\"\n",
    "    training_accuracy_result = session.run(accuracy, feed_dict={x: feature_batch, y: label_batch, keep_prob: 1.0})\n",
    "    training_cost_result = session.run(cost, feed_dict={x: feature_batch, y: label_batch, keep_prob: 1.0})\n",
    "    \n",
    "    validation_accuracy_result = session.run(accuracy, feed_dict={x: valid_features, y: valid_labels, keep_prob: 1.0})\n",
    "    validation_cost_result = session.run(cost, feed_dict={x: valid_features, y: valid_labels, keep_prob: 1.0})\n",
    "    \n",
    "    print(\"Train acc: {:0.4f}, Train cost: {:0.4f}\\tVal acc: {:0.4f}, Val cost: {:0.4f}\"\n",
    "          .format(training_accuracy_result, training_cost_result, validation_accuracy_result, validation_cost_result))"
   ]
  },
  {
   "cell_type": "markdown",
   "metadata": {
    "deletable": true,
    "editable": true
   },
   "source": [
    "### Hyperparameters\n",
    "Tune the following parameters:\n",
    "* Set `epochs` to the number of iterations until the network stops learning or start overfitting\n",
    "* Set `batch_size` to the highest number that your machine has memory for.  Most people set them to common sizes of memory:\n",
    " * 64\n",
    " * 128\n",
    " * 256\n",
    " * ...\n",
    "* Set `keep_probability` to the probability of keeping a node using dropout"
   ]
  },
  {
   "cell_type": "code",
   "execution_count": 15,
   "metadata": {
    "collapsed": true,
    "deletable": true,
    "editable": true
   },
   "outputs": [],
   "source": [
    "# TODO: Tune Parameters\n",
    "epochs = 50\n",
    "batch_size = 256\n",
    "keep_probability = 0.6"
   ]
  },
  {
   "cell_type": "markdown",
   "metadata": {
    "deletable": true,
    "editable": true
   },
   "source": [
    "### Train on a Single CIFAR-10 Batch\n",
    "Instead of training the neural network on all the CIFAR-10 batches of data, let's use a single batch. This should save time while you iterate on the model to get a better accuracy.  Once the final validation accuracy is 50% or greater, run the model on all the data in the next section."
   ]
  },
  {
   "cell_type": "code",
   "execution_count": 16,
   "metadata": {
    "collapsed": false,
    "deletable": true,
    "editable": true
   },
   "outputs": [
    {
     "name": "stdout",
     "output_type": "stream",
     "text": [
      "Checking the Training on a Single Batch...\n",
      "Epoch  1, CIFAR-10 Batch 1:  Train acc: 0.3250, Train cost: 2.0841\tVal acc: 0.3030, Val cost: 1.9342\n",
      "Epoch  2, CIFAR-10 Batch 1:  Train acc: 0.3500, Train cost: 1.9124\tVal acc: 0.3630, Val cost: 1.7746\n",
      "Epoch  3, CIFAR-10 Batch 1:  Train acc: 0.4500, Train cost: 1.8092\tVal acc: 0.3880, Val cost: 1.7091\n",
      "Epoch  4, CIFAR-10 Batch 1:  Train acc: 0.5000, Train cost: 1.7221\tVal acc: 0.4018, Val cost: 1.6633\n",
      "Epoch  5, CIFAR-10 Batch 1:  Train acc: 0.4750, Train cost: 1.6537\tVal acc: 0.4178, Val cost: 1.6300\n",
      "Epoch  6, CIFAR-10 Batch 1:  Train acc: 0.4500, Train cost: 1.5972\tVal acc: 0.4230, Val cost: 1.6052\n",
      "Epoch  7, CIFAR-10 Batch 1:  Train acc: 0.5500, Train cost: 1.5280\tVal acc: 0.4364, Val cost: 1.5793\n",
      "Epoch  8, CIFAR-10 Batch 1:  Train acc: 0.4750, Train cost: 1.4793\tVal acc: 0.4390, Val cost: 1.5644\n",
      "Epoch  9, CIFAR-10 Batch 1:  Train acc: 0.5750, Train cost: 1.4214\tVal acc: 0.4468, Val cost: 1.5417\n",
      "Epoch 10, CIFAR-10 Batch 1:  Train acc: 0.6500, Train cost: 1.3650\tVal acc: 0.4528, Val cost: 1.5288\n",
      "Epoch 11, CIFAR-10 Batch 1:  Train acc: 0.6500, Train cost: 1.3182\tVal acc: 0.4558, Val cost: 1.5167\n",
      "Epoch 12, CIFAR-10 Batch 1:  Train acc: 0.6750, Train cost: 1.2589\tVal acc: 0.4608, Val cost: 1.5013\n",
      "Epoch 13, CIFAR-10 Batch 1:  Train acc: 0.6750, Train cost: 1.2054\tVal acc: 0.4672, Val cost: 1.4861\n",
      "Epoch 14, CIFAR-10 Batch 1:  Train acc: 0.7250, Train cost: 1.1579\tVal acc: 0.4676, Val cost: 1.4768\n",
      "Epoch 15, CIFAR-10 Batch 1:  Train acc: 0.7250, Train cost: 1.1088\tVal acc: 0.4740, Val cost: 1.4672\n",
      "Epoch 16, CIFAR-10 Batch 1:  Train acc: 0.7250, Train cost: 1.0564\tVal acc: 0.4756, Val cost: 1.4626\n",
      "Epoch 17, CIFAR-10 Batch 1:  Train acc: 0.7500, Train cost: 1.0351\tVal acc: 0.4812, Val cost: 1.4519\n",
      "Epoch 18, CIFAR-10 Batch 1:  Train acc: 0.7500, Train cost: 0.9985\tVal acc: 0.4866, Val cost: 1.4447\n",
      "Epoch 19, CIFAR-10 Batch 1:  Train acc: 0.7500, Train cost: 0.9550\tVal acc: 0.4872, Val cost: 1.4400\n",
      "Epoch 20, CIFAR-10 Batch 1:  Train acc: 0.7500, Train cost: 0.9255\tVal acc: 0.4910, Val cost: 1.4302\n",
      "Epoch 21, CIFAR-10 Batch 1:  Train acc: 0.7750, Train cost: 0.9091\tVal acc: 0.4958, Val cost: 1.4258\n",
      "Epoch 22, CIFAR-10 Batch 1:  Train acc: 0.8000, Train cost: 0.8742\tVal acc: 0.5008, Val cost: 1.4156\n",
      "Epoch 23, CIFAR-10 Batch 1:  Train acc: 0.8000, Train cost: 0.8441\tVal acc: 0.4962, Val cost: 1.4145\n",
      "Epoch 24, CIFAR-10 Batch 1:  Train acc: 0.8000, Train cost: 0.8187\tVal acc: 0.4974, Val cost: 1.4099\n",
      "Epoch 25, CIFAR-10 Batch 1:  Train acc: 0.8000, Train cost: 0.8031\tVal acc: 0.5018, Val cost: 1.4050\n",
      "Epoch 26, CIFAR-10 Batch 1:  Train acc: 0.8000, Train cost: 0.7875\tVal acc: 0.5004, Val cost: 1.4035\n",
      "Epoch 27, CIFAR-10 Batch 1:  Train acc: 0.8000, Train cost: 0.7719\tVal acc: 0.5008, Val cost: 1.4001\n",
      "Epoch 28, CIFAR-10 Batch 1:  Train acc: 0.8000, Train cost: 0.7584\tVal acc: 0.5056, Val cost: 1.3937\n",
      "Epoch 29, CIFAR-10 Batch 1:  Train acc: 0.8000, Train cost: 0.7417\tVal acc: 0.5074, Val cost: 1.3947\n",
      "Epoch 30, CIFAR-10 Batch 1:  Train acc: 0.8000, Train cost: 0.7245\tVal acc: 0.5062, Val cost: 1.3913\n",
      "Epoch 31, CIFAR-10 Batch 1:  Train acc: 0.8250, Train cost: 0.7090\tVal acc: 0.5088, Val cost: 1.3839\n",
      "Epoch 32, CIFAR-10 Batch 1:  Train acc: 0.8250, Train cost: 0.6966\tVal acc: 0.5114, Val cost: 1.3828\n",
      "Epoch 33, CIFAR-10 Batch 1:  Train acc: 0.8250, Train cost: 0.6733\tVal acc: 0.5140, Val cost: 1.3751\n",
      "Epoch 34, CIFAR-10 Batch 1:  Train acc: 0.8500, Train cost: 0.6569\tVal acc: 0.5136, Val cost: 1.3746\n",
      "Epoch 35, CIFAR-10 Batch 1:  Train acc: 0.8750, Train cost: 0.6424\tVal acc: 0.5124, Val cost: 1.3760\n",
      "Epoch 36, CIFAR-10 Batch 1:  Train acc: 0.8500, Train cost: 0.6439\tVal acc: 0.5102, Val cost: 1.3792\n",
      "Epoch 37, CIFAR-10 Batch 1:  Train acc: 0.8500, Train cost: 0.6377\tVal acc: 0.5158, Val cost: 1.3790\n",
      "Epoch 38, CIFAR-10 Batch 1:  Train acc: 0.8750, Train cost: 0.6128\tVal acc: 0.5158, Val cost: 1.3655\n",
      "Epoch 39, CIFAR-10 Batch 1:  Train acc: 0.9000, Train cost: 0.6122\tVal acc: 0.5178, Val cost: 1.3657\n",
      "Epoch 40, CIFAR-10 Batch 1:  Train acc: 0.8750, Train cost: 0.5920\tVal acc: 0.5224, Val cost: 1.3655\n",
      "Epoch 41, CIFAR-10 Batch 1:  Train acc: 0.8500, Train cost: 0.6049\tVal acc: 0.5184, Val cost: 1.3703\n",
      "Epoch 42, CIFAR-10 Batch 1:  Train acc: 0.8500, Train cost: 0.5867\tVal acc: 0.5190, Val cost: 1.3715\n",
      "Epoch 43, CIFAR-10 Batch 1:  Train acc: 0.8500, Train cost: 0.5973\tVal acc: 0.5150, Val cost: 1.3799\n",
      "Epoch 44, CIFAR-10 Batch 1:  Train acc: 0.8500, Train cost: 0.5873\tVal acc: 0.5246, Val cost: 1.3681\n",
      "Epoch 45, CIFAR-10 Batch 1:  Train acc: 0.8750, Train cost: 0.5603\tVal acc: 0.5258, Val cost: 1.3654\n",
      "Epoch 46, CIFAR-10 Batch 1:  Train acc: 0.9000, Train cost: 0.5470\tVal acc: 0.5274, Val cost: 1.3601\n",
      "Epoch 47, CIFAR-10 Batch 1:  Train acc: 0.9000, Train cost: 0.5398\tVal acc: 0.5272, Val cost: 1.3575\n",
      "Epoch 48, CIFAR-10 Batch 1:  Train acc: 0.9000, Train cost: 0.5442\tVal acc: 0.5250, Val cost: 1.3586\n",
      "Epoch 49, CIFAR-10 Batch 1:  Train acc: 0.9000, Train cost: 0.5425\tVal acc: 0.5242, Val cost: 1.3606\n",
      "Epoch 50, CIFAR-10 Batch 1:  Train acc: 0.9000, Train cost: 0.5241\tVal acc: 0.5282, Val cost: 1.3549\n"
     ]
    }
   ],
   "source": [
    "\"\"\"\n",
    "DON'T MODIFY ANYTHING IN THIS CELL\n",
    "\"\"\"\n",
    "print('Checking the Training on a Single Batch...')\n",
    "with tf.Session() as sess:\n",
    "    # Initializing the variables\n",
    "    sess.run(tf.global_variables_initializer())\n",
    "    \n",
    "    # Training cycle\n",
    "    for epoch in range(epochs):\n",
    "        batch_i = 1\n",
    "        for batch_features, batch_labels in helper.load_preprocess_training_batch(batch_i, batch_size):\n",
    "            train_neural_network(sess, optimizer, keep_probability, batch_features, batch_labels)\n",
    "        print('Epoch {:>2}, CIFAR-10 Batch {}:  '.format(epoch + 1, batch_i), end='')\n",
    "        print_stats(sess, batch_features, batch_labels, cost, accuracy)"
   ]
  },
  {
   "cell_type": "markdown",
   "metadata": {
    "deletable": true,
    "editable": true
   },
   "source": [
    "## <span style=\"color:red\">Questions:</span>\n",
    "> I've started by setting the `batch_size` to 5120 as you said: \"*Set batch_size to the highest number that your machine has memory for*\", I have a GTX 1070/8gb of GPU RAM and 32gb of RAM. But I noticed that my validation accuracy was actually increasing more slowly and then dropping at some point (I guess because of overfit), using a `batch_size` of 256 instead resolved the issue. Could you explain to me why?"
   ]
  },
  {
   "cell_type": "markdown",
   "metadata": {
    "deletable": true,
    "editable": true
   },
   "source": [
    "### Fully Train the Model\n",
    "Now that you got a good accuracy with a single CIFAR-10 batch, try it with all five batches."
   ]
  },
  {
   "cell_type": "code",
   "execution_count": 17,
   "metadata": {
    "collapsed": false,
    "deletable": true,
    "editable": true
   },
   "outputs": [
    {
     "name": "stdout",
     "output_type": "stream",
     "text": [
      "Training...\n",
      "Epoch  1, CIFAR-10 Batch 1:  Train acc: 0.1750, Train cost: 2.2045\tVal acc: 0.2864, Val cost: 1.9852\n",
      "Epoch  1, CIFAR-10 Batch 2:  Train acc: 0.3000, Train cost: 1.9724\tVal acc: 0.3038, Val cost: 1.9140\n",
      "Epoch  1, CIFAR-10 Batch 3:  Train acc: 0.3750, Train cost: 1.7575\tVal acc: 0.3344, Val cost: 1.8558\n",
      "Epoch  1, CIFAR-10 Batch 4:  Train acc: 0.4000, Train cost: 1.7329\tVal acc: 0.3596, Val cost: 1.7946\n",
      "Epoch  1, CIFAR-10 Batch 5:  Train acc: 0.4250, Train cost: 1.7909\tVal acc: 0.3724, Val cost: 1.7616\n",
      "Epoch  2, CIFAR-10 Batch 1:  Train acc: 0.3750, Train cost: 1.9892\tVal acc: 0.3804, Val cost: 1.7421\n",
      "Epoch  2, CIFAR-10 Batch 2:  Train acc: 0.3250, Train cost: 1.7257\tVal acc: 0.3986, Val cost: 1.7032\n",
      "Epoch  2, CIFAR-10 Batch 3:  Train acc: 0.4250, Train cost: 1.6375\tVal acc: 0.3992, Val cost: 1.6878\n",
      "Epoch  2, CIFAR-10 Batch 4:  Train acc: 0.5250, Train cost: 1.5602\tVal acc: 0.4146, Val cost: 1.6475\n",
      "Epoch  2, CIFAR-10 Batch 5:  Train acc: 0.4500, Train cost: 1.7139\tVal acc: 0.4228, Val cost: 1.6257\n",
      "Epoch  3, CIFAR-10 Batch 1:  Train acc: 0.3500, Train cost: 1.8490\tVal acc: 0.4240, Val cost: 1.6181\n",
      "Epoch  3, CIFAR-10 Batch 2:  Train acc: 0.3250, Train cost: 1.5720\tVal acc: 0.4428, Val cost: 1.5909\n",
      "Epoch  3, CIFAR-10 Batch 3:  Train acc: 0.4750, Train cost: 1.4750\tVal acc: 0.4438, Val cost: 1.5688\n",
      "Epoch  3, CIFAR-10 Batch 4:  Train acc: 0.5500, Train cost: 1.4135\tVal acc: 0.4512, Val cost: 1.5407\n",
      "Epoch  3, CIFAR-10 Batch 5:  Train acc: 0.4250, Train cost: 1.6183\tVal acc: 0.4610, Val cost: 1.5208\n",
      "Epoch  4, CIFAR-10 Batch 1:  Train acc: 0.5000, Train cost: 1.6681\tVal acc: 0.4648, Val cost: 1.5065\n",
      "Epoch  4, CIFAR-10 Batch 2:  Train acc: 0.4000, Train cost: 1.3944\tVal acc: 0.4784, Val cost: 1.4966\n",
      "Epoch  4, CIFAR-10 Batch 3:  Train acc: 0.5500, Train cost: 1.3436\tVal acc: 0.4814, Val cost: 1.4732\n",
      "Epoch  4, CIFAR-10 Batch 4:  Train acc: 0.5500, Train cost: 1.2931\tVal acc: 0.4892, Val cost: 1.4560\n",
      "Epoch  4, CIFAR-10 Batch 5:  Train acc: 0.5000, Train cost: 1.5014\tVal acc: 0.4948, Val cost: 1.4426\n",
      "Epoch  5, CIFAR-10 Batch 1:  Train acc: 0.5250, Train cost: 1.5080\tVal acc: 0.4946, Val cost: 1.4310\n",
      "Epoch  5, CIFAR-10 Batch 2:  Train acc: 0.6500, Train cost: 1.2658\tVal acc: 0.5078, Val cost: 1.4209\n",
      "Epoch  5, CIFAR-10 Batch 3:  Train acc: 0.5750, Train cost: 1.2341\tVal acc: 0.5068, Val cost: 1.4132\n",
      "Epoch  5, CIFAR-10 Batch 4:  Train acc: 0.6000, Train cost: 1.1826\tVal acc: 0.5076, Val cost: 1.3969\n",
      "Epoch  5, CIFAR-10 Batch 5:  Train acc: 0.5000, Train cost: 1.4114\tVal acc: 0.5152, Val cost: 1.3887\n",
      "Epoch  6, CIFAR-10 Batch 1:  Train acc: 0.5250, Train cost: 1.4126\tVal acc: 0.5146, Val cost: 1.3815\n",
      "Epoch  6, CIFAR-10 Batch 2:  Train acc: 0.6750, Train cost: 1.1706\tVal acc: 0.5216, Val cost: 1.3842\n",
      "Epoch  6, CIFAR-10 Batch 3:  Train acc: 0.6750, Train cost: 1.1592\tVal acc: 0.5246, Val cost: 1.3674\n",
      "Epoch  6, CIFAR-10 Batch 4:  Train acc: 0.6500, Train cost: 1.0997\tVal acc: 0.5252, Val cost: 1.3592\n",
      "Epoch  6, CIFAR-10 Batch 5:  Train acc: 0.5500, Train cost: 1.3681\tVal acc: 0.5238, Val cost: 1.3536\n",
      "Epoch  7, CIFAR-10 Batch 1:  Train acc: 0.5500, Train cost: 1.3650\tVal acc: 0.5206, Val cost: 1.3523\n",
      "Epoch  7, CIFAR-10 Batch 2:  Train acc: 0.6750, Train cost: 1.1032\tVal acc: 0.5330, Val cost: 1.3575\n",
      "Epoch  7, CIFAR-10 Batch 3:  Train acc: 0.6000, Train cost: 1.1161\tVal acc: 0.5344, Val cost: 1.3456\n",
      "Epoch  7, CIFAR-10 Batch 4:  Train acc: 0.6500, Train cost: 1.0510\tVal acc: 0.5350, Val cost: 1.3312\n",
      "Epoch  7, CIFAR-10 Batch 5:  Train acc: 0.6250, Train cost: 1.3203\tVal acc: 0.5360, Val cost: 1.3282\n",
      "Epoch  8, CIFAR-10 Batch 1:  Train acc: 0.5500, Train cost: 1.3159\tVal acc: 0.5336, Val cost: 1.3258\n",
      "Epoch  8, CIFAR-10 Batch 2:  Train acc: 0.7000, Train cost: 1.0477\tVal acc: 0.5376, Val cost: 1.3380\n",
      "Epoch  8, CIFAR-10 Batch 3:  Train acc: 0.6500, Train cost: 1.0564\tVal acc: 0.5394, Val cost: 1.3202\n",
      "Epoch  8, CIFAR-10 Batch 4:  Train acc: 0.7000, Train cost: 0.9943\tVal acc: 0.5398, Val cost: 1.3125\n",
      "Epoch  8, CIFAR-10 Batch 5:  Train acc: 0.6500, Train cost: 1.2658\tVal acc: 0.5424, Val cost: 1.3120\n",
      "Epoch  9, CIFAR-10 Batch 1:  Train acc: 0.5500, Train cost: 1.3037\tVal acc: 0.5412, Val cost: 1.3113\n",
      "Epoch  9, CIFAR-10 Batch 2:  Train acc: 0.7250, Train cost: 1.0019\tVal acc: 0.5466, Val cost: 1.3148\n",
      "Epoch  9, CIFAR-10 Batch 3:  Train acc: 0.6750, Train cost: 0.9851\tVal acc: 0.5518, Val cost: 1.3040\n",
      "Epoch  9, CIFAR-10 Batch 4:  Train acc: 0.7750, Train cost: 0.9479\tVal acc: 0.5454, Val cost: 1.2976\n",
      "Epoch  9, CIFAR-10 Batch 5:  Train acc: 0.6500, Train cost: 1.2201\tVal acc: 0.5512, Val cost: 1.2913\n",
      "Epoch 10, CIFAR-10 Batch 1:  Train acc: 0.6000, Train cost: 1.2658\tVal acc: 0.5514, Val cost: 1.2936\n",
      "Epoch 10, CIFAR-10 Batch 2:  Train acc: 0.7250, Train cost: 0.9509\tVal acc: 0.5532, Val cost: 1.2929\n",
      "Epoch 10, CIFAR-10 Batch 3:  Train acc: 0.7500, Train cost: 0.9537\tVal acc: 0.5548, Val cost: 1.2911\n",
      "Epoch 10, CIFAR-10 Batch 4:  Train acc: 0.7250, Train cost: 0.9177\tVal acc: 0.5562, Val cost: 1.2824\n",
      "Epoch 10, CIFAR-10 Batch 5:  Train acc: 0.6750, Train cost: 1.1702\tVal acc: 0.5542, Val cost: 1.2828\n",
      "Epoch 11, CIFAR-10 Batch 1:  Train acc: 0.6000, Train cost: 1.2453\tVal acc: 0.5542, Val cost: 1.2834\n",
      "Epoch 11, CIFAR-10 Batch 2:  Train acc: 0.7250, Train cost: 0.9229\tVal acc: 0.5588, Val cost: 1.2861\n",
      "Epoch 11, CIFAR-10 Batch 3:  Train acc: 0.7500, Train cost: 0.9218\tVal acc: 0.5562, Val cost: 1.2816\n",
      "Epoch 11, CIFAR-10 Batch 4:  Train acc: 0.8250, Train cost: 0.8953\tVal acc: 0.5602, Val cost: 1.2697\n",
      "Epoch 11, CIFAR-10 Batch 5:  Train acc: 0.6750, Train cost: 1.1459\tVal acc: 0.5602, Val cost: 1.2699\n",
      "Epoch 12, CIFAR-10 Batch 1:  Train acc: 0.5500, Train cost: 1.1996\tVal acc: 0.5620, Val cost: 1.2675\n",
      "Epoch 12, CIFAR-10 Batch 2:  Train acc: 0.7250, Train cost: 0.9016\tVal acc: 0.5642, Val cost: 1.2730\n",
      "Epoch 12, CIFAR-10 Batch 3:  Train acc: 0.7250, Train cost: 0.8928\tVal acc: 0.5630, Val cost: 1.2675\n",
      "Epoch 12, CIFAR-10 Batch 4:  Train acc: 0.7750, Train cost: 0.8713\tVal acc: 0.5656, Val cost: 1.2616\n",
      "Epoch 12, CIFAR-10 Batch 5:  Train acc: 0.6750, Train cost: 1.1297\tVal acc: 0.5652, Val cost: 1.2613\n",
      "Epoch 13, CIFAR-10 Batch 1:  Train acc: 0.5500, Train cost: 1.1833\tVal acc: 0.5624, Val cost: 1.2642\n",
      "Epoch 13, CIFAR-10 Batch 2:  Train acc: 0.7250, Train cost: 0.8871\tVal acc: 0.5636, Val cost: 1.2667\n",
      "Epoch 13, CIFAR-10 Batch 3:  Train acc: 0.7000, Train cost: 0.8666\tVal acc: 0.5650, Val cost: 1.2597\n",
      "Epoch 13, CIFAR-10 Batch 4:  Train acc: 0.8250, Train cost: 0.8454\tVal acc: 0.5670, Val cost: 1.2541\n",
      "Epoch 13, CIFAR-10 Batch 5:  Train acc: 0.7000, Train cost: 1.0854\tVal acc: 0.5634, Val cost: 1.2546\n",
      "Epoch 14, CIFAR-10 Batch 1:  Train acc: 0.5500, Train cost: 1.1485\tVal acc: 0.5674, Val cost: 1.2528\n",
      "Epoch 14, CIFAR-10 Batch 2:  Train acc: 0.7250, Train cost: 0.8598\tVal acc: 0.5726, Val cost: 1.2561\n",
      "Epoch 14, CIFAR-10 Batch 3:  Train acc: 0.7500, Train cost: 0.8507\tVal acc: 0.5692, Val cost: 1.2527\n",
      "Epoch 14, CIFAR-10 Batch 4:  Train acc: 0.8250, Train cost: 0.8321\tVal acc: 0.5718, Val cost: 1.2416\n",
      "Epoch 14, CIFAR-10 Batch 5:  Train acc: 0.7250, Train cost: 1.0607\tVal acc: 0.5704, Val cost: 1.2453\n",
      "Epoch 15, CIFAR-10 Batch 1:  Train acc: 0.5750, Train cost: 1.1407\tVal acc: 0.5716, Val cost: 1.2449\n",
      "Epoch 15, CIFAR-10 Batch 2:  Train acc: 0.7500, Train cost: 0.8454\tVal acc: 0.5754, Val cost: 1.2456\n",
      "Epoch 15, CIFAR-10 Batch 3:  Train acc: 0.7250, Train cost: 0.8317\tVal acc: 0.5708, Val cost: 1.2456\n",
      "Epoch 15, CIFAR-10 Batch 4:  Train acc: 0.8000, Train cost: 0.8236\tVal acc: 0.5768, Val cost: 1.2378\n",
      "Epoch 15, CIFAR-10 Batch 5:  Train acc: 0.7000, Train cost: 1.0428\tVal acc: 0.5750, Val cost: 1.2414\n",
      "Epoch 16, CIFAR-10 Batch 1:  Train acc: 0.5750, Train cost: 1.1362\tVal acc: 0.5742, Val cost: 1.2409\n",
      "Epoch 16, CIFAR-10 Batch 2:  Train acc: 0.7250, Train cost: 0.8350\tVal acc: 0.5768, Val cost: 1.2416\n",
      "Epoch 16, CIFAR-10 Batch 3:  Train acc: 0.7500, Train cost: 0.8055\tVal acc: 0.5762, Val cost: 1.2381\n",
      "Epoch 16, CIFAR-10 Batch 4:  Train acc: 0.8500, Train cost: 0.8036\tVal acc: 0.5760, Val cost: 1.2288\n",
      "Epoch 16, CIFAR-10 Batch 5:  Train acc: 0.7000, Train cost: 1.0108\tVal acc: 0.5788, Val cost: 1.2333\n",
      "Epoch 17, CIFAR-10 Batch 1:  Train acc: 0.6250, Train cost: 1.0929\tVal acc: 0.5768, Val cost: 1.2298\n",
      "Epoch 17, CIFAR-10 Batch 2:  Train acc: 0.7250, Train cost: 0.8127\tVal acc: 0.5786, Val cost: 1.2333\n",
      "Epoch 17, CIFAR-10 Batch 3:  Train acc: 0.7750, Train cost: 0.8064\tVal acc: 0.5784, Val cost: 1.2318\n",
      "Epoch 17, CIFAR-10 Batch 4:  Train acc: 0.8500, Train cost: 0.7852\tVal acc: 0.5792, Val cost: 1.2246\n",
      "Epoch 17, CIFAR-10 Batch 5:  Train acc: 0.7500, Train cost: 0.9926\tVal acc: 0.5780, Val cost: 1.2260\n",
      "Epoch 18, CIFAR-10 Batch 1:  Train acc: 0.6000, Train cost: 1.1059\tVal acc: 0.5762, Val cost: 1.2253\n",
      "Epoch 18, CIFAR-10 Batch 2:  Train acc: 0.7250, Train cost: 0.7993\tVal acc: 0.5812, Val cost: 1.2302\n",
      "Epoch 18, CIFAR-10 Batch 3:  Train acc: 0.7500, Train cost: 0.7961\tVal acc: 0.5778, Val cost: 1.2287\n",
      "Epoch 18, CIFAR-10 Batch 4:  Train acc: 0.8500, Train cost: 0.7715\tVal acc: 0.5788, Val cost: 1.2192\n",
      "Epoch 18, CIFAR-10 Batch 5:  Train acc: 0.7250, Train cost: 0.9864\tVal acc: 0.5756, Val cost: 1.2244\n",
      "Epoch 19, CIFAR-10 Batch 1:  Train acc: 0.6000, Train cost: 1.0669\tVal acc: 0.5828, Val cost: 1.2198\n",
      "Epoch 19, CIFAR-10 Batch 2:  Train acc: 0.7250, Train cost: 0.7825\tVal acc: 0.5832, Val cost: 1.2244\n",
      "Epoch 19, CIFAR-10 Batch 3:  Train acc: 0.7500, Train cost: 0.7798\tVal acc: 0.5822, Val cost: 1.2239\n",
      "Epoch 19, CIFAR-10 Batch 4:  Train acc: 0.8500, Train cost: 0.7610\tVal acc: 0.5836, Val cost: 1.2175\n",
      "Epoch 19, CIFAR-10 Batch 5:  Train acc: 0.7500, Train cost: 0.9588\tVal acc: 0.5816, Val cost: 1.2189\n",
      "Epoch 20, CIFAR-10 Batch 1:  Train acc: 0.6250, Train cost: 1.0520\tVal acc: 0.5814, Val cost: 1.2171\n",
      "Epoch 20, CIFAR-10 Batch 2:  Train acc: 0.7750, Train cost: 0.7682\tVal acc: 0.5886, Val cost: 1.2189\n",
      "Epoch 20, CIFAR-10 Batch 3:  Train acc: 0.7750, Train cost: 0.7773\tVal acc: 0.5864, Val cost: 1.2168\n",
      "Epoch 20, CIFAR-10 Batch 4:  Train acc: 0.8500, Train cost: 0.7595\tVal acc: 0.5896, Val cost: 1.2100\n",
      "Epoch 20, CIFAR-10 Batch 5:  Train acc: 0.7500, Train cost: 0.9431\tVal acc: 0.5844, Val cost: 1.2125\n",
      "Epoch 21, CIFAR-10 Batch 1:  Train acc: 0.6250, Train cost: 1.0412\tVal acc: 0.5846, Val cost: 1.2119\n",
      "Epoch 21, CIFAR-10 Batch 2:  Train acc: 0.7500, Train cost: 0.7431\tVal acc: 0.5838, Val cost: 1.2195\n",
      "Epoch 21, CIFAR-10 Batch 3:  Train acc: 0.8250, Train cost: 0.7568\tVal acc: 0.5860, Val cost: 1.2123\n",
      "Epoch 21, CIFAR-10 Batch 4:  Train acc: 0.8500, Train cost: 0.7508\tVal acc: 0.5878, Val cost: 1.2076\n",
      "Epoch 21, CIFAR-10 Batch 5:  Train acc: 0.7500, Train cost: 0.9459\tVal acc: 0.5822, Val cost: 1.2105\n",
      "Epoch 22, CIFAR-10 Batch 1:  Train acc: 0.6000, Train cost: 1.0398\tVal acc: 0.5858, Val cost: 1.2065\n",
      "Epoch 22, CIFAR-10 Batch 2:  Train acc: 0.7750, Train cost: 0.7411\tVal acc: 0.5906, Val cost: 1.2044\n",
      "Epoch 22, CIFAR-10 Batch 3:  Train acc: 0.8000, Train cost: 0.7495\tVal acc: 0.5880, Val cost: 1.2084\n",
      "Epoch 22, CIFAR-10 Batch 4:  Train acc: 0.8250, Train cost: 0.7350\tVal acc: 0.5872, Val cost: 1.2031\n",
      "Epoch 22, CIFAR-10 Batch 5:  Train acc: 0.7750, Train cost: 0.9292\tVal acc: 0.5870, Val cost: 1.2075\n",
      "Epoch 23, CIFAR-10 Batch 1:  Train acc: 0.6000, Train cost: 1.0478\tVal acc: 0.5880, Val cost: 1.2058\n",
      "Epoch 23, CIFAR-10 Batch 2:  Train acc: 0.8000, Train cost: 0.7294\tVal acc: 0.5890, Val cost: 1.2048\n",
      "Epoch 23, CIFAR-10 Batch 3:  Train acc: 0.7250, Train cost: 0.7530\tVal acc: 0.5896, Val cost: 1.2082\n",
      "Epoch 23, CIFAR-10 Batch 4:  Train acc: 0.8500, Train cost: 0.7278\tVal acc: 0.5920, Val cost: 1.1977\n",
      "Epoch 23, CIFAR-10 Batch 5:  Train acc: 0.7250, Train cost: 0.9180\tVal acc: 0.5878, Val cost: 1.2020\n",
      "Epoch 24, CIFAR-10 Batch 1:  Train acc: 0.6250, Train cost: 0.9954\tVal acc: 0.5878, Val cost: 1.1982\n",
      "Epoch 24, CIFAR-10 Batch 2:  Train acc: 0.8250, Train cost: 0.7209\tVal acc: 0.5932, Val cost: 1.1988\n",
      "Epoch 24, CIFAR-10 Batch 3:  Train acc: 0.8000, Train cost: 0.7437\tVal acc: 0.5930, Val cost: 1.1999\n",
      "Epoch 24, CIFAR-10 Batch 4:  Train acc: 0.8750, Train cost: 0.7098\tVal acc: 0.5898, Val cost: 1.1982\n",
      "Epoch 24, CIFAR-10 Batch 5:  Train acc: 0.7250, Train cost: 0.9096\tVal acc: 0.5880, Val cost: 1.1997\n",
      "Epoch 25, CIFAR-10 Batch 1:  Train acc: 0.6500, Train cost: 1.0081\tVal acc: 0.5908, Val cost: 1.1944\n",
      "Epoch 25, CIFAR-10 Batch 2:  Train acc: 0.7750, Train cost: 0.7186\tVal acc: 0.5946, Val cost: 1.1977\n",
      "Epoch 25, CIFAR-10 Batch 3:  Train acc: 0.8250, Train cost: 0.7249\tVal acc: 0.5958, Val cost: 1.1977\n",
      "Epoch 25, CIFAR-10 Batch 4:  Train acc: 0.8750, Train cost: 0.7215\tVal acc: 0.5946, Val cost: 1.1915\n",
      "Epoch 25, CIFAR-10 Batch 5:  Train acc: 0.7250, Train cost: 0.8961\tVal acc: 0.5900, Val cost: 1.1978\n",
      "Epoch 26, CIFAR-10 Batch 1:  Train acc: 0.6500, Train cost: 0.9934\tVal acc: 0.5906, Val cost: 1.1950\n",
      "Epoch 26, CIFAR-10 Batch 2:  Train acc: 0.8250, Train cost: 0.7182\tVal acc: 0.5940, Val cost: 1.1959\n",
      "Epoch 26, CIFAR-10 Batch 3:  Train acc: 0.8250, Train cost: 0.7120\tVal acc: 0.5920, Val cost: 1.1956\n",
      "Epoch 26, CIFAR-10 Batch 4:  Train acc: 0.8750, Train cost: 0.7180\tVal acc: 0.5960, Val cost: 1.1852\n",
      "Epoch 26, CIFAR-10 Batch 5:  Train acc: 0.7500, Train cost: 0.8702\tVal acc: 0.5924, Val cost: 1.1929\n",
      "Epoch 27, CIFAR-10 Batch 1:  Train acc: 0.6750, Train cost: 0.9975\tVal acc: 0.5952, Val cost: 1.1878\n",
      "Epoch 27, CIFAR-10 Batch 2:  Train acc: 0.8250, Train cost: 0.7036\tVal acc: 0.5984, Val cost: 1.1912\n",
      "Epoch 27, CIFAR-10 Batch 3:  Train acc: 0.8250, Train cost: 0.7058\tVal acc: 0.5956, Val cost: 1.1901\n",
      "Epoch 27, CIFAR-10 Batch 4:  Train acc: 0.8750, Train cost: 0.7113\tVal acc: 0.5958, Val cost: 1.1852\n",
      "Epoch 27, CIFAR-10 Batch 5:  Train acc: 0.7750, Train cost: 0.8718\tVal acc: 0.5892, Val cost: 1.1915\n",
      "Epoch 28, CIFAR-10 Batch 1:  Train acc: 0.6250, Train cost: 0.9895\tVal acc: 0.5908, Val cost: 1.1885\n",
      "Epoch 28, CIFAR-10 Batch 2:  Train acc: 0.8250, Train cost: 0.7029\tVal acc: 0.5966, Val cost: 1.1857\n",
      "Epoch 28, CIFAR-10 Batch 3:  Train acc: 0.7750, Train cost: 0.7166\tVal acc: 0.5926, Val cost: 1.1910\n",
      "Epoch 28, CIFAR-10 Batch 4:  Train acc: 0.8500, Train cost: 0.6940\tVal acc: 0.5950, Val cost: 1.1828\n",
      "Epoch 28, CIFAR-10 Batch 5:  Train acc: 0.7750, Train cost: 0.8715\tVal acc: 0.5912, Val cost: 1.1861\n",
      "Epoch 29, CIFAR-10 Batch 1:  Train acc: 0.6500, Train cost: 0.9619\tVal acc: 0.5936, Val cost: 1.1835\n",
      "Epoch 29, CIFAR-10 Batch 2:  Train acc: 0.8500, Train cost: 0.6814\tVal acc: 0.5972, Val cost: 1.1875\n",
      "Epoch 29, CIFAR-10 Batch 3:  Train acc: 0.8000, Train cost: 0.7131\tVal acc: 0.5976, Val cost: 1.1850\n",
      "Epoch 29, CIFAR-10 Batch 4:  Train acc: 0.8500, Train cost: 0.7050\tVal acc: 0.5990, Val cost: 1.1796\n",
      "Epoch 29, CIFAR-10 Batch 5:  Train acc: 0.8000, Train cost: 0.8757\tVal acc: 0.5910, Val cost: 1.1869\n",
      "Epoch 30, CIFAR-10 Batch 1:  Train acc: 0.6750, Train cost: 0.9582\tVal acc: 0.5958, Val cost: 1.1783\n",
      "Epoch 30, CIFAR-10 Batch 2:  Train acc: 0.8000, Train cost: 0.6878\tVal acc: 0.5982, Val cost: 1.1803\n",
      "Epoch 30, CIFAR-10 Batch 3:  Train acc: 0.7750, Train cost: 0.7189\tVal acc: 0.5946, Val cost: 1.1893\n",
      "Epoch 30, CIFAR-10 Batch 4:  Train acc: 0.8750, Train cost: 0.6937\tVal acc: 0.5998, Val cost: 1.1746\n",
      "Epoch 30, CIFAR-10 Batch 5:  Train acc: 0.7750, Train cost: 0.8700\tVal acc: 0.5968, Val cost: 1.1802\n",
      "Epoch 31, CIFAR-10 Batch 1:  Train acc: 0.6750, Train cost: 0.9723\tVal acc: 0.5968, Val cost: 1.1765\n",
      "Epoch 31, CIFAR-10 Batch 2:  Train acc: 0.8250, Train cost: 0.6737\tVal acc: 0.6004, Val cost: 1.1776\n",
      "Epoch 31, CIFAR-10 Batch 3:  Train acc: 0.8250, Train cost: 0.7016\tVal acc: 0.5996, Val cost: 1.1819\n",
      "Epoch 31, CIFAR-10 Batch 4:  Train acc: 0.8750, Train cost: 0.6845\tVal acc: 0.5966, Val cost: 1.1785\n",
      "Epoch 31, CIFAR-10 Batch 5:  Train acc: 0.8000, Train cost: 0.8581\tVal acc: 0.5910, Val cost: 1.1831\n",
      "Epoch 32, CIFAR-10 Batch 1:  Train acc: 0.6750, Train cost: 0.9420\tVal acc: 0.5950, Val cost: 1.1773\n",
      "Epoch 32, CIFAR-10 Batch 2:  Train acc: 0.8500, Train cost: 0.6793\tVal acc: 0.5996, Val cost: 1.1781\n",
      "Epoch 32, CIFAR-10 Batch 3:  Train acc: 0.8500, Train cost: 0.7020\tVal acc: 0.5986, Val cost: 1.1821\n",
      "Epoch 32, CIFAR-10 Batch 4:  Train acc: 0.8750, Train cost: 0.6894\tVal acc: 0.5990, Val cost: 1.1751\n",
      "Epoch 32, CIFAR-10 Batch 5:  Train acc: 0.7750, Train cost: 0.8459\tVal acc: 0.5968, Val cost: 1.1783\n",
      "Epoch 33, CIFAR-10 Batch 1:  Train acc: 0.7000, Train cost: 0.9621\tVal acc: 0.5964, Val cost: 1.1785\n",
      "Epoch 33, CIFAR-10 Batch 2:  Train acc: 0.8250, Train cost: 0.6728\tVal acc: 0.6018, Val cost: 1.1749\n",
      "Epoch 33, CIFAR-10 Batch 3:  Train acc: 0.8250, Train cost: 0.6933\tVal acc: 0.5980, Val cost: 1.1789\n",
      "Epoch 33, CIFAR-10 Batch 4:  Train acc: 0.8750, Train cost: 0.6813\tVal acc: 0.6034, Val cost: 1.1706\n",
      "Epoch 33, CIFAR-10 Batch 5:  Train acc: 0.8000, Train cost: 0.8379\tVal acc: 0.5972, Val cost: 1.1761\n",
      "Epoch 34, CIFAR-10 Batch 1:  Train acc: 0.7000, Train cost: 0.9501\tVal acc: 0.5974, Val cost: 1.1758\n",
      "Epoch 34, CIFAR-10 Batch 2:  Train acc: 0.8500, Train cost: 0.6749\tVal acc: 0.6020, Val cost: 1.1693\n",
      "Epoch 34, CIFAR-10 Batch 3:  Train acc: 0.8000, Train cost: 0.6921\tVal acc: 0.5996, Val cost: 1.1768\n",
      "Epoch 34, CIFAR-10 Batch 4:  Train acc: 0.8750, Train cost: 0.6668\tVal acc: 0.5980, Val cost: 1.1692\n",
      "Epoch 34, CIFAR-10 Batch 5:  Train acc: 0.8000, Train cost: 0.8353\tVal acc: 0.5992, Val cost: 1.1723\n",
      "Epoch 35, CIFAR-10 Batch 1:  Train acc: 0.6750, Train cost: 0.9374\tVal acc: 0.5994, Val cost: 1.1693\n",
      "Epoch 35, CIFAR-10 Batch 2:  Train acc: 0.8250, Train cost: 0.6649\tVal acc: 0.6018, Val cost: 1.1696\n",
      "Epoch 35, CIFAR-10 Batch 3:  Train acc: 0.8500, Train cost: 0.6735\tVal acc: 0.6034, Val cost: 1.1763\n",
      "Epoch 35, CIFAR-10 Batch 4:  Train acc: 0.8750, Train cost: 0.6644\tVal acc: 0.6006, Val cost: 1.1655\n",
      "Epoch 35, CIFAR-10 Batch 5:  Train acc: 0.8000, Train cost: 0.8277\tVal acc: 0.5988, Val cost: 1.1704\n",
      "Epoch 36, CIFAR-10 Batch 1:  Train acc: 0.6500, Train cost: 0.9400\tVal acc: 0.6046, Val cost: 1.1646\n",
      "Epoch 36, CIFAR-10 Batch 2:  Train acc: 0.8500, Train cost: 0.6601\tVal acc: 0.6068, Val cost: 1.1666\n",
      "Epoch 36, CIFAR-10 Batch 3:  Train acc: 0.8500, Train cost: 0.6612\tVal acc: 0.6036, Val cost: 1.1682\n",
      "Epoch 36, CIFAR-10 Batch 4:  Train acc: 0.8750, Train cost: 0.6681\tVal acc: 0.6020, Val cost: 1.1653\n",
      "Epoch 36, CIFAR-10 Batch 5:  Train acc: 0.7750, Train cost: 0.8250\tVal acc: 0.6012, Val cost: 1.1689\n",
      "Epoch 37, CIFAR-10 Batch 1:  Train acc: 0.6750, Train cost: 0.9465\tVal acc: 0.6012, Val cost: 1.1662\n",
      "Epoch 37, CIFAR-10 Batch 2:  Train acc: 0.8250, Train cost: 0.6689\tVal acc: 0.6036, Val cost: 1.1646\n",
      "Epoch 37, CIFAR-10 Batch 3:  Train acc: 0.8750, Train cost: 0.6604\tVal acc: 0.6036, Val cost: 1.1667\n",
      "Epoch 37, CIFAR-10 Batch 4:  Train acc: 0.8750, Train cost: 0.6794\tVal acc: 0.6036, Val cost: 1.1614\n",
      "Epoch 37, CIFAR-10 Batch 5:  Train acc: 0.8250, Train cost: 0.8115\tVal acc: 0.5978, Val cost: 1.1689\n",
      "Epoch 38, CIFAR-10 Batch 1:  Train acc: 0.7000, Train cost: 0.9285\tVal acc: 0.5986, Val cost: 1.1652\n",
      "Epoch 38, CIFAR-10 Batch 2:  Train acc: 0.8500, Train cost: 0.6780\tVal acc: 0.6064, Val cost: 1.1649\n",
      "Epoch 38, CIFAR-10 Batch 3:  Train acc: 0.9000, Train cost: 0.6562\tVal acc: 0.6032, Val cost: 1.1665\n",
      "Epoch 38, CIFAR-10 Batch 4:  Train acc: 0.8750, Train cost: 0.6715\tVal acc: 0.6056, Val cost: 1.1614\n",
      "Epoch 38, CIFAR-10 Batch 5:  Train acc: 0.8250, Train cost: 0.8088\tVal acc: 0.5982, Val cost: 1.1656\n",
      "Epoch 39, CIFAR-10 Batch 1:  Train acc: 0.7250, Train cost: 0.8966\tVal acc: 0.5988, Val cost: 1.1637\n",
      "Epoch 39, CIFAR-10 Batch 2:  Train acc: 0.8500, Train cost: 0.6809\tVal acc: 0.6046, Val cost: 1.1607\n",
      "Epoch 39, CIFAR-10 Batch 3:  Train acc: 0.8750, Train cost: 0.6539\tVal acc: 0.6052, Val cost: 1.1636\n",
      "Epoch 39, CIFAR-10 Batch 4:  Train acc: 0.8500, Train cost: 0.6695\tVal acc: 0.6052, Val cost: 1.1601\n",
      "Epoch 39, CIFAR-10 Batch 5:  Train acc: 0.8000, Train cost: 0.8197\tVal acc: 0.6016, Val cost: 1.1666\n",
      "Epoch 40, CIFAR-10 Batch 1:  Train acc: 0.7000, Train cost: 0.9145\tVal acc: 0.6024, Val cost: 1.1614\n",
      "Epoch 40, CIFAR-10 Batch 2:  Train acc: 0.8250, Train cost: 0.6753\tVal acc: 0.6058, Val cost: 1.1609\n",
      "Epoch 40, CIFAR-10 Batch 3:  Train acc: 0.9000, Train cost: 0.6576\tVal acc: 0.6016, Val cost: 1.1643\n",
      "Epoch 40, CIFAR-10 Batch 4:  Train acc: 0.8750, Train cost: 0.6619\tVal acc: 0.6036, Val cost: 1.1581\n",
      "Epoch 40, CIFAR-10 Batch 5:  Train acc: 0.8000, Train cost: 0.8199\tVal acc: 0.6028, Val cost: 1.1609\n",
      "Epoch 41, CIFAR-10 Batch 1:  Train acc: 0.6750, Train cost: 0.9164\tVal acc: 0.6036, Val cost: 1.1590\n",
      "Epoch 41, CIFAR-10 Batch 2:  Train acc: 0.8250, Train cost: 0.6715\tVal acc: 0.6060, Val cost: 1.1579\n",
      "Epoch 41, CIFAR-10 Batch 3:  Train acc: 0.8500, Train cost: 0.6503\tVal acc: 0.6068, Val cost: 1.1601\n",
      "Epoch 41, CIFAR-10 Batch 4:  Train acc: 0.8750, Train cost: 0.6590\tVal acc: 0.6070, Val cost: 1.1550\n",
      "Epoch 41, CIFAR-10 Batch 5:  Train acc: 0.7500, Train cost: 0.8160\tVal acc: 0.6016, Val cost: 1.1578\n",
      "Epoch 42, CIFAR-10 Batch 1:  Train acc: 0.7000, Train cost: 0.9064\tVal acc: 0.6016, Val cost: 1.1590\n",
      "Epoch 42, CIFAR-10 Batch 2:  Train acc: 0.8250, Train cost: 0.6614\tVal acc: 0.6092, Val cost: 1.1574\n",
      "Epoch 42, CIFAR-10 Batch 3:  Train acc: 0.9000, Train cost: 0.6573\tVal acc: 0.6064, Val cost: 1.1595\n",
      "Epoch 42, CIFAR-10 Batch 4:  Train acc: 0.8750, Train cost: 0.6582\tVal acc: 0.6054, Val cost: 1.1535\n",
      "Epoch 42, CIFAR-10 Batch 5:  Train acc: 0.7750, Train cost: 0.8179\tVal acc: 0.6020, Val cost: 1.1585\n",
      "Epoch 43, CIFAR-10 Batch 1:  Train acc: 0.7000, Train cost: 0.9060\tVal acc: 0.6040, Val cost: 1.1520\n",
      "Epoch 43, CIFAR-10 Batch 2:  Train acc: 0.8250, Train cost: 0.6555\tVal acc: 0.6092, Val cost: 1.1518\n",
      "Epoch 43, CIFAR-10 Batch 3:  Train acc: 0.9000, Train cost: 0.6459\tVal acc: 0.6070, Val cost: 1.1546\n",
      "Epoch 43, CIFAR-10 Batch 4:  Train acc: 0.8750, Train cost: 0.6478\tVal acc: 0.6070, Val cost: 1.1532\n",
      "Epoch 43, CIFAR-10 Batch 5:  Train acc: 0.8000, Train cost: 0.8022\tVal acc: 0.6056, Val cost: 1.1564\n",
      "Epoch 44, CIFAR-10 Batch 1:  Train acc: 0.7000, Train cost: 0.9126\tVal acc: 0.6016, Val cost: 1.1566\n",
      "Epoch 44, CIFAR-10 Batch 2:  Train acc: 0.8250, Train cost: 0.6571\tVal acc: 0.6088, Val cost: 1.1523\n",
      "Epoch 44, CIFAR-10 Batch 3:  Train acc: 0.8750, Train cost: 0.6593\tVal acc: 0.6016, Val cost: 1.1599\n",
      "Epoch 44, CIFAR-10 Batch 4:  Train acc: 0.8750, Train cost: 0.6563\tVal acc: 0.6082, Val cost: 1.1517\n",
      "Epoch 44, CIFAR-10 Batch 5:  Train acc: 0.8000, Train cost: 0.8024\tVal acc: 0.6064, Val cost: 1.1539\n",
      "Epoch 45, CIFAR-10 Batch 1:  Train acc: 0.7000, Train cost: 0.8836\tVal acc: 0.6056, Val cost: 1.1495\n",
      "Epoch 45, CIFAR-10 Batch 2:  Train acc: 0.8250, Train cost: 0.6518\tVal acc: 0.6072, Val cost: 1.1511\n",
      "Epoch 45, CIFAR-10 Batch 3:  Train acc: 0.8500, Train cost: 0.6370\tVal acc: 0.6048, Val cost: 1.1540\n",
      "Epoch 45, CIFAR-10 Batch 4:  Train acc: 0.8500, Train cost: 0.6555\tVal acc: 0.6060, Val cost: 1.1518\n",
      "Epoch 45, CIFAR-10 Batch 5:  Train acc: 0.7750, Train cost: 0.7977\tVal acc: 0.6066, Val cost: 1.1559\n",
      "Epoch 46, CIFAR-10 Batch 1:  Train acc: 0.7250, Train cost: 0.8990\tVal acc: 0.6080, Val cost: 1.1485\n",
      "Epoch 46, CIFAR-10 Batch 2:  Train acc: 0.8500, Train cost: 0.6517\tVal acc: 0.6084, Val cost: 1.1506\n",
      "Epoch 46, CIFAR-10 Batch 3:  Train acc: 0.8750, Train cost: 0.6300\tVal acc: 0.6086, Val cost: 1.1565\n",
      "Epoch 46, CIFAR-10 Batch 4:  Train acc: 0.8750, Train cost: 0.6417\tVal acc: 0.6114, Val cost: 1.1464\n",
      "Epoch 46, CIFAR-10 Batch 5:  Train acc: 0.7750, Train cost: 0.7885\tVal acc: 0.6076, Val cost: 1.1509\n",
      "Epoch 47, CIFAR-10 Batch 1:  Train acc: 0.6750, Train cost: 0.9028\tVal acc: 0.6054, Val cost: 1.1500\n",
      "Epoch 47, CIFAR-10 Batch 2:  Train acc: 0.8500, Train cost: 0.6464\tVal acc: 0.6090, Val cost: 1.1461\n",
      "Epoch 47, CIFAR-10 Batch 3:  Train acc: 0.9000, Train cost: 0.6273\tVal acc: 0.6082, Val cost: 1.1489\n",
      "Epoch 47, CIFAR-10 Batch 4:  Train acc: 0.8750, Train cost: 0.6411\tVal acc: 0.6066, Val cost: 1.1503\n",
      "Epoch 47, CIFAR-10 Batch 5:  Train acc: 0.8000, Train cost: 0.7751\tVal acc: 0.6056, Val cost: 1.1491\n",
      "Epoch 48, CIFAR-10 Batch 1:  Train acc: 0.7000, Train cost: 0.8916\tVal acc: 0.6100, Val cost: 1.1446\n",
      "Epoch 48, CIFAR-10 Batch 2:  Train acc: 0.8750, Train cost: 0.6368\tVal acc: 0.6118, Val cost: 1.1446\n",
      "Epoch 48, CIFAR-10 Batch 3:  Train acc: 0.9000, Train cost: 0.6238\tVal acc: 0.6116, Val cost: 1.1486\n",
      "Epoch 48, CIFAR-10 Batch 4:  Train acc: 0.8750, Train cost: 0.6375\tVal acc: 0.6088, Val cost: 1.1496\n",
      "Epoch 48, CIFAR-10 Batch 5:  Train acc: 0.8250, Train cost: 0.7852\tVal acc: 0.6088, Val cost: 1.1461\n",
      "Epoch 49, CIFAR-10 Batch 1:  Train acc: 0.6750, Train cost: 0.9002\tVal acc: 0.6062, Val cost: 1.1472\n",
      "Epoch 49, CIFAR-10 Batch 2:  Train acc: 0.8750, Train cost: 0.6404\tVal acc: 0.6104, Val cost: 1.1435\n",
      "Epoch 49, CIFAR-10 Batch 3:  Train acc: 0.9250, Train cost: 0.6283\tVal acc: 0.6086, Val cost: 1.1465\n",
      "Epoch 49, CIFAR-10 Batch 4:  Train acc: 0.8250, Train cost: 0.6415\tVal acc: 0.6104, Val cost: 1.1437\n",
      "Epoch 49, CIFAR-10 Batch 5:  Train acc: 0.7750, Train cost: 0.7913\tVal acc: 0.6116, Val cost: 1.1436\n",
      "Epoch 50, CIFAR-10 Batch 1:  Train acc: 0.6500, Train cost: 0.8820\tVal acc: 0.6100, Val cost: 1.1396\n",
      "Epoch 50, CIFAR-10 Batch 2:  Train acc: 0.8500, Train cost: 0.6309\tVal acc: 0.6130, Val cost: 1.1433\n",
      "Epoch 50, CIFAR-10 Batch 3:  Train acc: 0.8750, Train cost: 0.6300\tVal acc: 0.6128, Val cost: 1.1433\n",
      "Epoch 50, CIFAR-10 Batch 4:  Train acc: 0.8750, Train cost: 0.6315\tVal acc: 0.6132, Val cost: 1.1393\n",
      "Epoch 50, CIFAR-10 Batch 5:  Train acc: 0.8250, Train cost: 0.7732\tVal acc: 0.6136, Val cost: 1.1427\n"
     ]
    }
   ],
   "source": [
    "\"\"\"\n",
    "DON'T MODIFY ANYTHING IN THIS CELL\n",
    "\"\"\"\n",
    "save_model_path = './image_classification'\n",
    "\n",
    "print('Training...')\n",
    "with tf.Session() as sess:\n",
    "    # Initializing the variables\n",
    "    sess.run(tf.global_variables_initializer())\n",
    "    \n",
    "    # Training cycle\n",
    "    for epoch in range(epochs):\n",
    "        # Loop over all batches\n",
    "        n_batches = 5\n",
    "        for batch_i in range(1, n_batches + 1):\n",
    "            for batch_features, batch_labels in helper.load_preprocess_training_batch(batch_i, batch_size):\n",
    "                train_neural_network(sess, optimizer, keep_probability, batch_features, batch_labels)\n",
    "            print('Epoch {:>2}, CIFAR-10 Batch {}:  '.format(epoch + 1, batch_i), end='')\n",
    "            print_stats(sess, batch_features, batch_labels, cost, accuracy)\n",
    "            \n",
    "    # Save Model\n",
    "    saver = tf.train.Saver()\n",
    "    save_path = saver.save(sess, save_model_path)"
   ]
  },
  {
   "cell_type": "markdown",
   "metadata": {
    "deletable": true,
    "editable": true
   },
   "source": [
    "# Checkpoint\n",
    "The model has been saved to disk.\n",
    "## Test Model\n",
    "Test your model against the test dataset.  This will be your final accuracy. You should have an accuracy greater than 50%. If you don't, keep tweaking the model architecture and parameters."
   ]
  },
  {
   "cell_type": "code",
   "execution_count": 18,
   "metadata": {
    "collapsed": false,
    "deletable": true,
    "editable": true
   },
   "outputs": [
    {
     "name": "stdout",
     "output_type": "stream",
     "text": [
      "Testing Accuracy: 0.60390625\n",
      "\n"
     ]
    },
    {
     "data": {
      "image/png": "[encoded data removed]",
      "text/plain": [
       "<matplotlib.figure.Figure at 0x7fdaf557f390>"
      ]
     },
     "metadata": {
      "image/png": {
       "height": 319,
       "width": 355
      }
     },
     "output_type": "display_data"
    }
   ],
   "source": [
    "\"\"\"\n",
    "DON'T MODIFY ANYTHING IN THIS CELL\n",
    "\"\"\"\n",
    "%matplotlib inline\n",
    "%config InlineBackend.figure_format = 'retina'\n",
    "\n",
    "import tensorflow as tf\n",
    "import pickle\n",
    "import helper\n",
    "import random\n",
    "\n",
    "# Set batch size if not already set\n",
    "try:\n",
    "    if batch_size:\n",
    "        pass\n",
    "except NameError:\n",
    "    batch_size = 64\n",
    "\n",
    "save_model_path = './image_classification'\n",
    "n_samples = 4\n",
    "top_n_predictions = 3\n",
    "\n",
    "def test_model():\n",
    "    \"\"\"\n",
    "    Test the saved model against the test dataset\n",
    "    \"\"\"\n",
    "\n",
    "    test_features, test_labels = pickle.load(open('preprocess_training.p', mode='rb'))\n",
    "    loaded_graph = tf.Graph()\n",
    "\n",
    "    with tf.Session(graph=loaded_graph) as sess:\n",
    "        # Load model\n",
    "        loader = tf.train.import_meta_graph(save_model_path + '.meta')\n",
    "        loader.restore(sess, save_model_path)\n",
    "\n",
    "        # Get Tensors from loaded model\n",
    "        loaded_x = loaded_graph.get_tensor_by_name('x:0')\n",
    "        loaded_y = loaded_graph.get_tensor_by_name('y:0')\n",
    "        loaded_keep_prob = loaded_graph.get_tensor_by_name('keep_prob:0')\n",
    "        loaded_logits = loaded_graph.get_tensor_by_name('logits:0')\n",
    "        loaded_acc = loaded_graph.get_tensor_by_name('accuracy:0')\n",
    "        \n",
    "        # Get accuracy in batches for memory limitations\n",
    "        test_batch_acc_total = 0\n",
    "        test_batch_count = 0\n",
    "        \n",
    "        for train_feature_batch, train_label_batch in helper.batch_features_labels(test_features, test_labels, batch_size):\n",
    "            test_batch_acc_total += sess.run(\n",
    "                loaded_acc,\n",
    "                feed_dict={loaded_x: train_feature_batch, loaded_y: train_label_batch, loaded_keep_prob: 1.0})\n",
    "            test_batch_count += 1\n",
    "\n",
    "        print('Testing Accuracy: {}\\n'.format(test_batch_acc_total/test_batch_count))\n",
    "\n",
    "        # Print Random Samples\n",
    "        random_test_features, random_test_labels = tuple(zip(*random.sample(list(zip(test_features, test_labels)), n_samples)))\n",
    "        random_test_predictions = sess.run(\n",
    "            tf.nn.top_k(tf.nn.softmax(loaded_logits), top_n_predictions),\n",
    "            feed_dict={loaded_x: random_test_features, loaded_y: random_test_labels, loaded_keep_prob: 1.0})\n",
    "        helper.display_image_predictions(random_test_features, random_test_labels, random_test_predictions)\n",
    "\n",
    "\n",
    "test_model()"
   ]
  },
  {
   "cell_type": "markdown",
   "metadata": {
    "deletable": true,
    "editable": true
   },
   "source": [
    "## Why 50-70% Accuracy?\n",
    "You might be wondering why you can't get an accuracy any higher. First things first, 50% isn't bad for a simple CNN.  Pure guessing would get you 10% accuracy. However, you might notice people are getting scores [well above 70%](http://rodrigob.github.io/are_we_there_yet/build/classification_datasets_results.html#43494641522d3130).  That's because we haven't taught you all there is to know about neural networks. We still need to cover a few more techniques.\n",
    "## Submitting This Project\n",
    "When submitting this project, make sure to run all the cells before saving the notebook.  Save the notebook file as \"dlnd_image_classification.ipynb\" and save it as a HTML file under \"File\" -> \"Download as\".  Include the \"helper.py\" and \"problem_unittests.py\" files in your submission."
   ]
  }
 ],
 "metadata": {
  "kernelspec": {
   "display_name": "Python [conda env:tensorflow-old]",
   "language": "python",
   "name": "conda-env-tensorflow-old-py"
  },
  "language_info": {
   "codemirror_mode": {
    "name": "ipython",
    "version": 3
   },
   "file_extension": ".py",
   "mimetype": "text/x-python",
   "name": "python",
   "nbconvert_exporter": "python",
   "pygments_lexer": "ipython3",
   "version": "3.5.2"
  }
 },
 "nbformat": 4,
 "nbformat_minor": 0
}
